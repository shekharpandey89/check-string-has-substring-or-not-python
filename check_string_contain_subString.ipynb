{
 "cells": [
  {
   "cell_type": "markdown",
   "id": "involved-corporation",
   "metadata": {},
   "source": [
    "# Method 1: Using in Operator"
   ]
  },
  {
   "cell_type": "code",
   "execution_count": 2,
   "id": "egyptian-kazakhstan",
   "metadata": {},
   "outputs": [
    {
     "name": "stdout",
     "output_type": "stream",
     "text": [
      "Found the substring\n"
     ]
    }
   ],
   "source": [
    "string = \"Python coding day\"\n",
    "substring = \"Python\"\n",
    " \n",
    "if substring in string:\n",
    "    print(\"Found the substring\")\n",
    "else:\n",
    "    print(\"Not Found\")"
   ]
  },
  {
   "cell_type": "markdown",
   "id": "dedicated-portuguese",
   "metadata": {},
   "source": [
    "# Method 2: Using find() method"
   ]
  },
  {
   "cell_type": "code",
   "execution_count": 3,
   "id": "educated-trade",
   "metadata": {},
   "outputs": [
    {
     "name": "stdout",
     "output_type": "stream",
     "text": [
      "Found the substring\n"
     ]
    }
   ],
   "source": [
    "string = \"Python coding day\"\n",
    "substring = \"Python\"\n",
    " \n",
    "if string.find(substring) != -1:\n",
    "    print(\"Found the substring\")\n",
    "else:\n",
    "    print(\"Not Found\")"
   ]
  },
  {
   "cell_type": "markdown",
   "id": "ceramic-patch",
   "metadata": {},
   "source": [
    "# Method 3: Using index() method"
   ]
  },
  {
   "cell_type": "code",
   "execution_count": 10,
   "id": "simple-charm",
   "metadata": {},
   "outputs": [
    {
     "name": "stdout",
     "output_type": "stream",
     "text": [
      "Found the substring\n"
     ]
    }
   ],
   "source": [
    "string = \"Python coding day\"\n",
    "substring = \"Python\"\n",
    "\n",
    "try:\n",
    "    string.index(substring)\n",
    "except ValueError:\n",
    "    print(\"Not Found\")\n",
    "else:\n",
    "    print(\"Found the substring\")"
   ]
  },
  {
   "cell_type": "markdown",
   "id": "announced-israeli",
   "metadata": {},
   "source": [
    "# Method 4: Using count() method"
   ]
  },
  {
   "cell_type": "code",
   "execution_count": 7,
   "id": "cardiac-trace",
   "metadata": {},
   "outputs": [
    {
     "name": "stdout",
     "output_type": "stream",
     "text": [
      "Found the substring\n"
     ]
    }
   ],
   "source": [
    "string = \"Python coding day\"\n",
    "substring = \"Python\"\n",
    " \n",
    "if string.count(substring) > 0:\n",
    "    print(\"Found the substring\")\n",
    "else:\n",
    "    print(\"Not Found\")"
   ]
  },
  {
   "cell_type": "markdown",
   "id": "continuous-granny",
   "metadata": {},
   "source": [
    "# Method 5: Using REGEX"
   ]
  },
  {
   "cell_type": "code",
   "execution_count": 9,
   "id": "sudden-service",
   "metadata": {},
   "outputs": [
    {
     "name": "stdout",
     "output_type": "stream",
     "text": [
      "Found the substring\n"
     ]
    }
   ],
   "source": [
    "from re import search\n",
    "\n",
    "string = \"Pythoncodingday\"\n",
    "substring = \"Python\"\n",
    "\n",
    "if search(substring, string):\n",
    "    print(\"Found the substring\")\n",
    "else:\n",
    "    print(\"Not found\")"
   ]
  },
  {
   "cell_type": "code",
   "execution_count": null,
   "id": "weird-glucose",
   "metadata": {},
   "outputs": [],
   "source": []
  }
 ],
 "metadata": {
  "kernelspec": {
   "display_name": "cv",
   "language": "python",
   "name": "cv"
  },
  "language_info": {
   "codemirror_mode": {
    "name": "ipython",
    "version": 3
   },
   "file_extension": ".py",
   "mimetype": "text/x-python",
   "name": "python",
   "nbconvert_exporter": "python",
   "pygments_lexer": "ipython3",
   "version": "3.8.10"
  }
 },
 "nbformat": 4,
 "nbformat_minor": 5
}
